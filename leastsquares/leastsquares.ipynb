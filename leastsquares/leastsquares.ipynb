{
 "cells": [
  {
   "cell_type": "markdown",
   "metadata": {},
   "source": [
    "# Linear Least Squares\n",
    "\n",
    "## Problem statement:\n",
    "\n",
    "Given a large set of 2D measurement points $(u_{i}, v_{i})$ (in data.csv) approximate these points by a circle with radius $r$ and center $(u_{c}, v_{c})$ as well as possible.\n",
    "\n",
    "## Approach:\n",
    "\n",
    "The problem is overdetermined, as it has 50 measurements to determine 3 parameters, and such only approximate solution that minimizes some property can be achieved. The solution is obtained by linear least squares by minimizing the square of the radius:\n",
    "\n",
    "The distance of the measurement point $i$ from the center of the circle is\n",
    "\n",
    "$$ \\sqrt{(u_{i} - u_{c})^2 + (v_{i}-v_{c})^2} \\approx r $$\n",
    "\n",
    "To formulate a *linear* least squares problem, it is best to minimize the fourth power of the distances, rather than the square. This results in the problem forumlation of\n",
    "\n",
    "$$ \\min \\left(\\sum_{i=1}^{m} \\left((u_{i} - u_{c})^2 + (v_{i}-v_{c})^2 - r^2\\right)^2\\right) $$\n",
    "\n",
    "Introducing an auxiliary variable $w := u_{c}^2 + v_{c}^2 - r^2 $ and expanding the squares of differences, we obtain\n",
    "\n",
    "$$\n",
    "\\begin{align}\n",
    "(u_{i} - u_{c})^2 + (v_{i} - v_{c})^2 - r^2\n",
    "&= u_{i}^2 - 2u_{i}u_{c} + u_{c}^2 + v_{i}^2 - 2v_{i}v_{c} + v_{c}^2 - r^2 \\\\\n",
    "&= u_{i}^2 -2u_{i}u_{c} + v_{i}^2 - 2v_{i}v_{c} + w\n",
    "\\end{align}\n",
    "$$\n",
    "\n",
    "This leads to the least squares formulation of the problem in matrix form:\n",
    "\n",
    "$$\n",
    "\\min_{u_{c},v_{c},w}\n",
    "\\begin{Vmatrix}\n",
    "\\begin{pmatrix}\n",
    "-2u_{1} & -2v_{1} & 1 \\\\\n",
    "-2u_{2} & -2v_{2} & 1 \\\\\n",
    "\\vdots & \\vdots & \\vdots \\\\\n",
    "-2u_{m} & -2v_{m} & 1\n",
    "\\end{pmatrix}\n",
    "\\begin{pmatrix}\n",
    "u_{c}\\\\\n",
    "v_{c}\\\\\n",
    "w\n",
    "\\end{pmatrix}\n",
    "-\n",
    "\\begin{pmatrix}\n",
    "u_1^2 + v_1^2 \\\\\n",
    "u_2^2 + v_2^2 \\\\\n",
    "\\vdots \\\\\n",
    "u_m^2 + v_m^2\n",
    "\\end{pmatrix}\n",
    "\\end{Vmatrix}\n",
    "_2^2\n",
    "$$\n",
    "\n",
    "Note: the above currently does not render quite correctly on Github as opposed to running the notebook locally"
   ]
  },
  {
   "cell_type": "markdown",
   "metadata": {},
   "source": [
    "## Solution\n",
    "\n",
    "First read the csv file as a numpy array"
   ]
  },
  {
   "cell_type": "code",
   "execution_count": 1,
   "metadata": {},
   "outputs": [
    {
     "name": "stdout",
     "output_type": "stream",
     "text": [
      "First few data points:\n"
     ]
    },
    {
     "data": {
      "text/plain": [
       "array([[-3.9265,  5.7992],\n",
       "       [-3.1716,  7.3131],\n",
       "       [-1.6116,  7.5592],\n",
       "       [-2.6679,  7.6911],\n",
       "       [-1.73  ,  5.5113]])"
      ]
     },
     "execution_count": 1,
     "metadata": {},
     "output_type": "execute_result"
    }
   ],
   "source": [
    "import numpy as np\n",
    "\n",
    "data = np.loadtxt('data.csv', delimiter=',')\n",
    "u = data[:, [0]]\n",
    "v = data[:, [1]]\n",
    "\n",
    "print('First few data points:')\n",
    "data[:5, :]"
   ]
  },
  {
   "cell_type": "markdown",
   "metadata": {},
   "source": [
    "A quick plot of the data reveals that the measured data indeed seem to be arranged in roughly a circle:"
   ]
  },
  {
   "cell_type": "code",
   "execution_count": 2,
   "metadata": {},
   "outputs": [
    {
     "data": {
      "image/png": "[encoded data removed]",
      "text/plain": [
       "<Figure size 432x288 with 1 Axes>"
      ]
     },
     "metadata": {
      "needs_background": "light"
     },
     "output_type": "display_data"
    }
   ],
   "source": [
    "import matplotlib.pyplot as plt\n",
    "%matplotlib inline\n",
    "\n",
    "fig, ax = plt.subplots()\n",
    "ax.set_aspect('equal')\n",
    "ax.plot(u, v, 'o');"
   ]
  },
  {
   "cell_type": "markdown",
   "metadata": {},
   "source": [
    "Construct the matrices $A$ and $b$ for minimizing the least squares problem of the form\n",
    "$$\n",
    "\\min_{x^*}\n",
    "\\begin{Vmatrix}\n",
    "Ax^* - b\n",
    "\\end{Vmatrix}_2^2 , \\\\\n",
    "A \\in \\mathbb{R}^{m \\times n}, b \\in \\mathbb{R}^m, m \\gg n\n",
    "$$"
   ]
  },
  {
   "cell_type": "code",
   "execution_count": 3,
   "metadata": {},
   "outputs": [],
   "source": [
    "def construct_A(u: np.ndarray, v: np.ndarray) -> np.ndarray:\n",
    "    m = u.shape[0]\n",
    "    A = np.hstack((-2*np.hstack((u, v)), np.ones((m, 1))))\n",
    "    return A\n",
    "\n",
    "\n",
    "def construct_b(u: np.ndarray, v: np.ndarray) -> np.ndarray:\n",
    "    b = -np.square(u) - np.square(v)\n",
    "    return b\n",
    "\n",
    "\n",
    "A = construct_A(u, v)\n",
    "b = construct_b(u, v)"
   ]
  },
  {
   "cell_type": "code",
   "execution_count": 4,
   "metadata": {},
   "outputs": [],
   "source": [
    "def back_substitution(U: np.ndarray, b: np.ndarray) -> np.ndarray:\n",
    "    \"\"\"Perform back substitution to solve a matrix equation\n",
    "\n",
    "    Arguments:\n",
    "    U -- an np.ndarray upper right triangular matrix of shape (n, n)\n",
    "    b -- an np.ndarray of shape (n, 1)\n",
    "    \"\"\"\n",
    "    n = b.size\n",
    "    x = np.zeros_like(b)\n",
    "\n",
    "    x[-1] = b[-1]/U[-1, -1]\n",
    "    for i in range(n-2, -1, -1):\n",
    "        x[i] = (b[i] - np.dot(U[i, i+1:n], x[i+1:n]))/U[i, i]\n",
    "\n",
    "    return x\n",
    "\n",
    "\n",
    "def least_squares_qr(A: np.ndarray, b: np.ndarray) -> np.ndarray:\n",
    "    \"\"\"Solve the linear least squares problem with QR-decomposition\n",
    "\n",
    "    Arguments:\n",
    "    A -- an np.ndarray of shape (m, n), with m >> n\n",
    "    b -- an np.ndarray of shape (m, 1)\n",
    "    \"\"\"\n",
    "    from scipy import linalg\n",
    "    q, r = linalg.qr(A)\n",
    "\n",
    "    y = np.dot(q.T, b)\n",
    "    n = A.shape[1]\n",
    "    y = y[0:n, :]\n",
    "    r = r[0:n, :]\n",
    "\n",
    "    x = back_substitution(r, y)\n",
    "    # should really just use:\n",
    "    # x = linalg.solve_triangular(r, y)\n",
    "    return x\n",
    "\n",
    "\n",
    "x = least_squares_qr(A, b)"
   ]
  },
  {
   "cell_type": "code",
   "execution_count": 5,
   "metadata": {},
   "outputs": [
    {
     "data": {
      "image/png": "[encoded data removed]",
      "text/plain": [
       "<Figure size 432x288 with 1 Axes>"
      ]
     },
     "metadata": {
      "needs_background": "light"
     },
     "output_type": "display_data"
    }
   ],
   "source": [
    "def plot_results(u, v, x):\n",
    "    uc, vc, w = x\n",
    "    # calculate r from the definition of w above\n",
    "    r = (uc**2 + vc**2 - w)**0.5\n",
    "\n",
    "    theta = np.linspace(0., 2*np.pi)\n",
    "    x = r*np.cos(theta) + uc\n",
    "    y = r*np.sin(theta) + vc\n",
    "\n",
    "    fix, ax = plt.subplots()\n",
    "    ax.plot(u, v, 'o', label='measured')\n",
    "    ax.plot(x, y, label='least squares')\n",
    "    ax.set_aspect('equal')\n",
    "    ax.legend()\n",
    "\n",
    "\n",
    "plot_results(u, v, x)"
   ]
  }
 ],
 "metadata": {
  "kernelspec": {
   "display_name": "Python 3",
   "language": "python",
   "name": "python3"
  },
  "language_info": {
   "codemirror_mode": {
    "name": "ipython",
    "version": 3
   },
   "file_extension": ".py",
   "mimetype": "text/x-python",
   "name": "python",
   "nbconvert_exporter": "python",
   "pygments_lexer": "ipython3",
   "version": "3.6.7"
  }
 },
 "nbformat": 4,
 "nbformat_minor": 2
}
